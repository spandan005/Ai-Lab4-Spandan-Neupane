{
  "nbformat": 4,
  "nbformat_minor": 0,
  "metadata": {
    "colab": {
      "provenance": [],
      "authorship_tag": "ABX9TyPzj6vppRpMjzxCkFxN2Nl2",
      "include_colab_link": true
    },
    "kernelspec": {
      "name": "python3",
      "display_name": "Python 3"
    },
    "language_info": {
      "name": "python"
    }
  },
  "cells": [
    {
      "cell_type": "markdown",
      "metadata": {
        "id": "view-in-github",
        "colab_type": "text"
      },
      "source": [
        "<a href=\"https://colab.research.google.com/github/spandan005/Ai-Lab4-Spandan-Neupane/blob/main/fixed_KNN.ipynb\" target=\"_parent\"><img src=\"https://colab.research.google.com/assets/colab-badge.svg\" alt=\"Open In Colab\"/></a>"
      ]
    },
    {
      "cell_type": "code",
      "execution_count": 1,
      "metadata": {
        "colab": {
          "base_uri": "https://localhost:8080/"
        },
        "id": "bQ85y4IsgeFT",
        "outputId": "bcfa192a-0d47-4571-ad0a-d2e658a3932a"
      },
      "outputs": [
        {
          "output_type": "stream",
          "name": "stdout",
          "text": [
            "The test point [2, 1] is classified as: Class A\n"
          ]
        }
      ],
      "source": [
        "from collections import Counter\n",
        "import math\n",
        "\n",
        "data = [\n",
        "    ([6, 2], 'Class A'),\n",
        "    ([2, 3], 'Class A'),\n",
        "    ([3, 1], 'Class B'),\n",
        "    ([5, 5], 'Class B')\n",
        "]\n",
        "\n",
        "def euclidean_distance(point1, point2):\n",
        "    return math.sqrt((point1[0] - point2[0])**2 + (point1[1] - point2[1])**2)\n",
        "\n",
        "def knn(test_point, data, k=3):\n",
        "    distances = []\n",
        "    for features, label in data:\n",
        "        dist = euclidean_distance(test_point, features)\n",
        "        distances.append((dist, label))\n",
        "    distances.sort(key=lambda x: x[0])\n",
        "\n",
        "    k_labels = [label for _, label in distances[:k]]\n",
        "\n",
        "    most_common = Counter(k_labels).most_common(1)[0][0]\n",
        "    return most_common\n",
        "\n",
        "\n",
        "test_point = [2, 1]\n",
        "predicted_class = knn(test_point, data, k=3)\n",
        "print(f\"The test point {test_point} is classified as: {predicted_class}\")"
      ]
    }
  ]
}